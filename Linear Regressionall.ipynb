{
 "cells": [
  {
   "cell_type": "code",
   "execution_count": 25,
   "metadata": {},
   "outputs": [],
   "source": [
    "import pandas as pd\n",
    "import numpy as np\n",
    "import matplotlib\n",
    "import matplotlib.pyplot as plt\n",
    "import seaborn as sns\n",
    "from scipy import stats\n",
    "from sklearn.model_selection import train_test_split\n",
    "from sklearn.linear_model import LinearRegression\n",
    "\n",
    "dataset= pd.read_csv('USA_Housingv2.csv')\n",
    "\n",
    "#Separamos los otros atributos del atributo de predicción\n",
    "X  = dataset[['AreaIncome','AreaHouseAge','AreaNumberofRooms',\n",
    "       'AreaNumberofBedrooms','AreaPopulation']]\n",
    "y = dataset['Price']\n",
    "#Separamos el atributo de predicción en Y para el entrenamiento del modelo\n",
    "\n",
    "X_train, X_test, y_train, y_test = train_test_split(X, y, random_state=1)\n",
    "\n",
    "#Cargando el constructor del  modelo.\n",
    "lm = LinearRegression()\n",
    "#Entrenar o ajustar los datos de entrenamiento en el modelo\n",
    "\n",
    "lm.fit(X_train,y_train)\n",
    "y_pred = lm.predict(X_test)\n",
    "#intercept= np.abs(lm.intercept_[0])\n",
    "#cdf = pd.DataFrame(data=lm.coef_.reshape(5,1),index=x_train.columns,columns=['Coeff'])\n",
    "#cdf.reset_index(inplace =True)\n",
    "#cdf.lm({'index':'intercept','Coeff':intercept},ignore_index=True)\n",
    "coef=lm.coef_\n",
    "result = pd.DataFrame(zip(X.columns,coef),columns = ['Coef','value'])\n",
    "result =result.append({'Coef':'intercept','value':lm.intercept_},ignore_index=True)"
   ]
  },
  {
   "cell_type": "code",
   "execution_count": 26,
   "metadata": {},
   "outputs": [
    {
     "output_type": "execute_result",
     "data": {
      "text/plain": "                   Coef         value\n0            AreaIncome  2.161284e+01\n1          AreaHouseAge  1.651991e+05\n2     AreaNumberofRooms  1.202152e+05\n3  AreaNumberofBedrooms  2.374461e+03\n4        AreaPopulation  1.514769e+01\n5             intercept -2.634497e+06",
      "text/html": "<div>\n<style scoped>\n    .dataframe tbody tr th:only-of-type {\n        vertical-align: middle;\n    }\n\n    .dataframe tbody tr th {\n        vertical-align: top;\n    }\n\n    .dataframe thead th {\n        text-align: right;\n    }\n</style>\n<table border=\"1\" class=\"dataframe\">\n  <thead>\n    <tr style=\"text-align: right;\">\n      <th></th>\n      <th>Coef</th>\n      <th>value</th>\n    </tr>\n  </thead>\n  <tbody>\n    <tr>\n      <th>0</th>\n      <td>AreaIncome</td>\n      <td>2.161284e+01</td>\n    </tr>\n    <tr>\n      <th>1</th>\n      <td>AreaHouseAge</td>\n      <td>1.651991e+05</td>\n    </tr>\n    <tr>\n      <th>2</th>\n      <td>AreaNumberofRooms</td>\n      <td>1.202152e+05</td>\n    </tr>\n    <tr>\n      <th>3</th>\n      <td>AreaNumberofBedrooms</td>\n      <td>2.374461e+03</td>\n    </tr>\n    <tr>\n      <th>4</th>\n      <td>AreaPopulation</td>\n      <td>1.514769e+01</td>\n    </tr>\n    <tr>\n      <th>5</th>\n      <td>intercept</td>\n      <td>-2.634497e+06</td>\n    </tr>\n  </tbody>\n</table>\n</div>"
     },
     "metadata": {},
     "execution_count": 26
    }
   ],
   "source": [
    "result.head(10)"
   ]
  },
  {
   "cell_type": "code",
   "execution_count": null,
   "metadata": {},
   "outputs": [],
   "source": []
  },
  {
   "cell_type": "code",
   "execution_count": null,
   "metadata": {},
   "outputs": [],
   "source": []
  }
 ],
 "metadata": {
  "language_info": {
   "codemirror_mode": {
    "name": "ipython",
    "version": 3
   },
   "file_extension": ".py",
   "mimetype": "text/x-python",
   "name": "python",
   "nbconvert_exporter": "python",
   "pygments_lexer": "ipython3",
   "version": "3.7.3-final"
  },
  "orig_nbformat": 2,
  "kernelspec": {
   "name": "python3",
   "display_name": "Python 3"
  }
 },
 "nbformat": 4,
 "nbformat_minor": 2
}